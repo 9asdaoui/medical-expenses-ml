{
 "cells": [
  {
   "cell_type": "markdown",
   "id": "bca5431a",
   "metadata": {},
   "source": [
    "### Handle missing values (median/mode imputation)"
   ]
  },
  {
   "cell_type": "code",
   "execution_count": 43,
   "id": "87ce37e1",
   "metadata": {},
   "outputs": [
    {
     "data": {
      "text/plain": [
       "np.False_"
      ]
     },
     "execution_count": 43,
     "metadata": {},
     "output_type": "execute_result"
    }
   ],
   "source": [
    "import pandas as pd\n",
    "\n",
    "df = pd.read_csv(\"../data/raw/assurance-maladie.csv\")\n",
    "\n",
    "df.isnull().values.any()"
   ]
  },
  {
   "cell_type": "code",
   "execution_count": 41,
   "id": "1793320d",
   "metadata": {},
   "outputs": [
    {
     "name": "stderr",
     "output_type": "stream",
     "text": [
      "C:\\Users\\oussa\\AppData\\Local\\Temp\\ipykernel_36756\\600734461.py:2: FutureWarning: A value is trying to be set on a copy of a DataFrame or Series through chained assignment using an inplace method.\n",
      "The behavior will change in pandas 3.0. This inplace method will never work because the intermediate object on which we are setting values always behaves as a copy.\n",
      "\n",
      "For example, when doing 'df[col].method(value, inplace=True)', try using 'df.method({col: value}, inplace=True)' or df[col] = df[col].method(value) instead, to perform the operation inplace on the original object.\n",
      "\n",
      "\n",
      "  df['age'].fillna(median_value, inplace=True)\n",
      "C:\\Users\\oussa\\AppData\\Local\\Temp\\ipykernel_36756\\600734461.py:6: FutureWarning: A value is trying to be set on a copy of a DataFrame or Series through chained assignment using an inplace method.\n",
      "The behavior will change in pandas 3.0. This inplace method will never work because the intermediate object on which we are setting values always behaves as a copy.\n",
      "\n",
      "For example, when doing 'df[col].method(value, inplace=True)', try using 'df.method({col: value}, inplace=True)' or df[col] = df[col].method(value) instead, to perform the operation inplace on the original object.\n",
      "\n",
      "\n",
      "  df['bmi'].fillna(mean_value, inplace=True)\n"
     ]
    }
   ],
   "source": [
    "\n",
    "median_value = df['age'].median()\n",
    "df['age'].fillna(median_value, inplace=True)\n",
    "\n",
    "\n",
    "mean_value = df['bmi'].mean()\n",
    "df['bmi'].fillna(mean_value, inplace=True)"
   ]
  },
  {
   "cell_type": "markdown",
   "id": "dd7db7b9",
   "metadata": {},
   "source": [
    "### Remove duplicates"
   ]
  },
  {
   "cell_type": "code",
   "execution_count": 44,
   "id": "ee64169f",
   "metadata": {},
   "outputs": [],
   "source": [
    "#show the duplicated rows\n",
    "\n",
    "duplicate_rows = df.duplicated()\n",
    "\n",
    "df[duplicate_rows]\n",
    "\n",
    "#delet the duble, in the original file \n",
    "\n",
    "df.drop_duplicates(inplace=True)"
   ]
  },
  {
   "cell_type": "markdown",
   "id": "8d6c6ded",
   "metadata": {},
   "source": [
    "### Handle outliers (IQR, z-score, boxplot)"
   ]
  },
  {
   "cell_type": "code",
   "execution_count": 52,
   "id": "88666bb2",
   "metadata": {},
   "outputs": [
    {
     "name": "stdout",
     "output_type": "stream",
     "text": [
      "      age     sex     bmi  children smoker     region      charges\n",
      "0      19  female  27.900         0    yes  southwest  16884.92400\n",
      "1      18    male  33.770         1     no  southeast   1725.55230\n",
      "2      28    male  33.000         3     no  southeast   4449.46200\n",
      "3      33    male  22.705         0     no  northwest  21984.47061\n",
      "4      32    male  28.880         0     no  northwest   3866.85520\n",
      "...   ...     ...     ...       ...    ...        ...          ...\n",
      "1333   50    male  30.970         3     no  northwest  10600.54830\n",
      "1334   18  female  31.920         0     no  northeast   2205.98080\n",
      "1335   18  female  36.850         0     no  southeast   1629.83350\n",
      "1336   21  female  25.800         0     no  southwest   2007.94500\n",
      "1337   61  female  29.070         0    yes  northwest  29141.36030\n",
      "\n",
      "[1198 rows x 7 columns]\n"
     ]
    }
   ],
   "source": [
    "\n",
    "Q1 = df['charges'].quantile(0.25)\n",
    "\n",
    "Q3 = df['charges'].quantile(0.75)\n",
    "\n",
    "IQR = Q3 - Q1\n",
    "\n",
    "upper_bound = Q3 + 1.5 * IQR\n",
    "\n",
    "\n",
    "df_cleaned = df[df['charges'] <= upper_bound]\n",
    "print(df_cleaned)"
   ]
  },
  {
   "cell_type": "markdown",
   "id": "5ffb8a24",
   "metadata": {},
   "source": [
    "### save the clean copie"
   ]
  },
  {
   "cell_type": "code",
   "execution_count": 46,
   "id": "aeff8485",
   "metadata": {},
   "outputs": [
    {
     "name": "stdout",
     "output_type": "stream",
     "text": [
      "DataFrame successfully saved to ../data/processed/cleaned_data.csv\n"
     ]
    }
   ],
   "source": [
    "file_path = '../data/processed/cleaned_data.csv' \n",
    "\n",
    "df_cleaned.to_csv(\n",
    "    file_path, \n",
    "    index=False, \n",
    "    encoding='utf-8' \n",
    ")\n",
    "\n",
    "print(f\"DataFrame successfully saved to {file_path}\")"
   ]
  },
  {
   "cell_type": "markdown",
   "id": "80b08e35",
   "metadata": {},
   "source": [
    "### Encode categorical variables"
   ]
  },
  {
   "cell_type": "code",
   "execution_count": 55,
   "id": "f7f55d25",
   "metadata": {},
   "outputs": [
    {
     "name": "stdout",
     "output_type": "stream",
     "text": [
      "      age     bmi  children      charges  sex_male  smoker_yes  \\\n",
      "0      19  27.900         0  16884.92400     False        True   \n",
      "1      18  33.770         1   1725.55230      True       False   \n",
      "2      28  33.000         3   4449.46200      True       False   \n",
      "3      33  22.705         0  21984.47061      True       False   \n",
      "4      32  28.880         0   3866.85520      True       False   \n",
      "...   ...     ...       ...          ...       ...         ...   \n",
      "1333   50  30.970         3  10600.54830      True       False   \n",
      "1334   18  31.920         0   2205.98080     False       False   \n",
      "1335   18  36.850         0   1629.83350     False       False   \n",
      "1336   21  25.800         0   2007.94500     False       False   \n",
      "1337   61  29.070         0  29141.36030     False        True   \n",
      "\n",
      "      region_northwest  region_southeast  region_southwest  \n",
      "0                False             False              True  \n",
      "1                False              True             False  \n",
      "2                False              True             False  \n",
      "3                 True             False             False  \n",
      "4                 True             False             False  \n",
      "...                ...               ...               ...  \n",
      "1333              True             False             False  \n",
      "1334             False             False             False  \n",
      "1335             False              True             False  \n",
      "1336             False             False              True  \n",
      "1337              True             False             False  \n",
      "\n",
      "[1198 rows x 9 columns]\n"
     ]
    }
   ],
   "source": [
    "cols_to_encode = ['sex', 'smoker', 'region']\n",
    "\n",
    "df_encoded = pd.get_dummies(df_cleaned, columns=cols_to_encode, drop_first=True)\n",
    "\n",
    "print(df_encoded)\n",
    "\n",
    "file_path = '../data/processed/cleaned_data.csv' \n",
    "\n",
    "df_encoded.to_csv(\n",
    "    file_path, \n",
    "    index=False, \n",
    "    encoding='utf-8' \n",
    ")"
   ]
  },
  {
   "cell_type": "markdown",
   "id": "d441e4ea",
   "metadata": {},
   "source": [
    "### Train/test split (80/20)"
   ]
  },
  {
   "cell_type": "code",
   "execution_count": null,
   "id": "845f0a78",
   "metadata": {},
   "outputs": [
    {
     "name": "stdout",
     "output_type": "stream",
     "text": [
      "      age     bmi  children  sex_male  smoker_yes  region_northwest  \\\n",
      "1045   43  24.700         2     False        True              True   \n",
      "764    45  25.175         2     False       False             False   \n",
      "804    23  26.510         0      True       False             False   \n",
      "152    32  37.145         3     False       False             False   \n",
      "498    44  23.980         2     False       False             False   \n",
      "...   ...     ...       ...       ...         ...               ...   \n",
      "258    51  24.415         4      True       False              True   \n",
      "1255   42  37.900         0     False       False             False   \n",
      "347    46  33.345         1      True       False             False   \n",
      "1114   23  24.510         0      True       False             False   \n",
      "1153   35  35.815         1     False       False              True   \n",
      "\n",
      "      region_southeast  region_southwest  \n",
      "1045             False             False  \n",
      "764              False             False  \n",
      "804               True             False  \n",
      "152              False             False  \n",
      "498               True             False  \n",
      "...                ...               ...  \n",
      "258              False             False  \n",
      "1255             False              True  \n",
      "347              False             False  \n",
      "1114             False             False  \n",
      "1153             False             False  \n",
      "\n",
      "[240 rows x 8 columns]\n",
      "      age     bmi  children  sex_male  smoker_yes  region_northwest  \\\n",
      "675    45  21.375         0      True       False              True   \n",
      "922    38  31.000         1      True       False             False   \n",
      "849    55  32.775         0      True       False              True   \n",
      "1165   35  26.125         0     False       False             False   \n",
      "1159   32  41.100         0     False       False             False   \n",
      "...   ...     ...       ...       ...         ...               ...   \n",
      "67     40  26.315         1      True       False              True   \n",
      "560    46  19.950         2     False       False              True   \n",
      "715    60  28.900         0      True       False             False   \n",
      "395    46  19.855         0      True       False              True   \n",
      "432    42  26.900         0      True       False             False   \n",
      "\n",
      "      region_southeast  region_southwest  \n",
      "675              False             False  \n",
      "922              False              True  \n",
      "849              False             False  \n",
      "1165             False             False  \n",
      "1159             False              True  \n",
      "...                ...               ...  \n",
      "67               False             False  \n",
      "560              False             False  \n",
      "715              False              True  \n",
      "395              False             False  \n",
      "432              False              True  \n",
      "\n",
      "[958 rows x 8 columns]\n",
      "1045    21880.82000\n",
      "764      9095.06825\n",
      "804      1815.87590\n",
      "152      6334.34355\n",
      "498      8211.10020\n",
      "           ...     \n",
      "258     11520.09985\n",
      "1255     6474.01300\n",
      "347      8334.45755\n",
      "1114     2396.09590\n",
      "1153     5630.45785\n",
      "Name: charges, Length: 240, dtype: float64\n",
      "675      7222.78625\n",
      "922      5488.26200\n",
      "849     10601.63225\n",
      "1165     5227.98875\n",
      "1159     3989.84100\n",
      "           ...     \n",
      "67       6389.37785\n",
      "560      9193.83850\n",
      "715     12146.97100\n",
      "395      7526.70645\n",
      "432      5969.72300\n",
      "Name: charges, Length: 958, dtype: float64\n"
     ]
    }
   ],
   "source": [
    "from sklearn.model_selection import train_test_split\n",
    "\n",
    "# Features (all columns except 'charges')\n",
    "X = df_encoded.drop(columns=['charges'])\n",
    "\n",
    "# Target (just the 'charges' column)\n",
    "y = df_encoded['charges']\n",
    "\n",
    "# Split into train (80%) and test (20%)\n",
    "X_train, X_test, y_train, y_test = train_test_split(\n",
    "    X, y, test_size=0.2, random_state=9\n",
    ")\n",
    "\n",
    "print(X_test)\n",
    "print(X_train)\n",
    "print(y_test)\n",
    "print(y_train)"
   ]
  },
  {
   "cell_type": "markdown",
   "id": "32f11300",
   "metadata": {},
   "source": [
    "### Normalize/Standardize numeric features"
   ]
  },
  {
   "cell_type": "code",
   "execution_count": 58,
   "id": "eaaa004b",
   "metadata": {},
   "outputs": [
    {
     "name": "stdout",
     "output_type": "stream",
     "text": [
      "      age     bmi  children  sex_male  smoker_yes  region_northwest  \\\n",
      "1045   43  24.700         2     False        True              True   \n",
      "764    45  25.175         2     False       False             False   \n",
      "804    23  26.510         0      True       False             False   \n",
      "152    32  37.145         3     False       False             False   \n",
      "498    44  23.980         2     False       False             False   \n",
      "...   ...     ...       ...       ...         ...               ...   \n",
      "258    51  24.415         4      True       False              True   \n",
      "1255   42  37.900         0     False       False             False   \n",
      "347    46  33.345         1      True       False             False   \n",
      "1114   23  24.510         0      True       False             False   \n",
      "1153   35  35.815         1     False       False              True   \n",
      "\n",
      "      region_southeast  region_southwest  \n",
      "1045             False             False  \n",
      "764              False             False  \n",
      "804               True             False  \n",
      "152              False             False  \n",
      "498               True             False  \n",
      "...                ...               ...  \n",
      "258              False             False  \n",
      "1255             False              True  \n",
      "347              False             False  \n",
      "1114             False             False  \n",
      "1153             False             False  \n",
      "\n",
      "[240 rows x 8 columns]\n"
     ]
    }
   ],
   "source": [
    "from sklearn.preprocessing import MinMaxScaler\n",
    "\n",
    "scaler = MinMaxScaler() \n",
    "\n",
    "X_train_scaled = scaler.fit_transform(X_train)\n",
    "\n",
    "X_test_scaled = scaler.transform(X_test)\n",
    "\n",
    "print(X_test)"
   ]
  }
 ],
 "metadata": {
  "kernelspec": {
   "display_name": ".venv",
   "language": "python",
   "name": "python3"
  },
  "language_info": {
   "codemirror_mode": {
    "name": "ipython",
    "version": 3
   },
   "file_extension": ".py",
   "mimetype": "text/x-python",
   "name": "python",
   "nbconvert_exporter": "python",
   "pygments_lexer": "ipython3",
   "version": "3.13.7"
  }
 },
 "nbformat": 4,
 "nbformat_minor": 5
}
