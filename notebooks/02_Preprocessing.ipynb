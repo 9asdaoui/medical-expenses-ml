{
 "cells": [
  {
   "cell_type": "markdown",
   "id": "bca5431a",
   "metadata": {},
   "source": [
    "### Handle missing values (median/mode imputation)"
   ]
  },
  {
   "cell_type": "code",
   "execution_count": null,
   "id": "87ce37e1",
   "metadata": {},
   "outputs": [],
   "source": [
    "import pandas as pd\n",
    "\n",
    "df = pd.read_csv(\"../data/raw/assurance-maladie.csv\")\n",
    "\n",
    "df.isnull().values.any()"
   ]
  },
  {
   "cell_type": "code",
   "execution_count": null,
   "id": "1793320d",
   "metadata": {},
   "outputs": [],
   "source": [
    "\n",
    "median_value = df['age'].median()\n",
    "df['age'].fillna(median_value, inplace=True)\n",
    "\n",
    "\n",
    "mean_value = df['bmi'].mean()\n",
    "df['bmi'].fillna(mean_value, inplace=True)"
   ]
  },
  {
   "cell_type": "markdown",
   "id": "dd7db7b9",
   "metadata": {},
   "source": [
    "### Remove duplicates"
   ]
  },
  {
   "cell_type": "code",
   "execution_count": 91,
   "id": "ee64169f",
   "metadata": {},
   "outputs": [],
   "source": [
    "#show the duplicated rows\n",
    "\n",
    "duplicate_rows = df.duplicated()\n",
    "\n",
    "df[duplicate_rows]\n",
    "\n",
    "#delet the duble, in the original file \n",
    "\n",
    "df.drop_duplicates(inplace=True)"
   ]
  },
  {
   "cell_type": "markdown",
   "id": "8d6c6ded",
   "metadata": {},
   "source": [
    "### Handle outliers (IQR, z-score, boxplot)"
   ]
  },
  {
   "cell_type": "code",
   "execution_count": null,
   "id": "88666bb2",
   "metadata": {},
   "outputs": [],
   "source": [
    "Q1 = df['charges'].quantile(0.25)\n",
    "Q3 = df['charges'].quantile(0.75)\n",
    "IQR = Q3 - Q1\n",
    "\n",
    "lower_bound = Q1 - 1.5 * IQR\n",
    "upper_bound = Q3 + 1.5 * IQR\n",
    "\n",
    "df_cleaned = df\n",
    "\n",
    "print(df_cleaned)\n"
   ]
  },
  {
   "cell_type": "markdown",
   "id": "5ffb8a24",
   "metadata": {},
   "source": [
    "### save the clean copie"
   ]
  },
  {
   "cell_type": "code",
   "execution_count": null,
   "id": "aeff8485",
   "metadata": {},
   "outputs": [],
   "source": [
    "file_path = '../data/processed/cleaned_data.csv' \n",
    "\n",
    "df_cleaned.to_csv(\n",
    "    file_path, \n",
    "    index=False, \n",
    "    encoding='utf-8' \n",
    ")\n",
    "\n",
    "print(f\"DataFrame successfully saved to {file_path}\")"
   ]
  },
  {
   "cell_type": "markdown",
   "id": "80b08e35",
   "metadata": {},
   "source": [
    "### Encode categorical variables"
   ]
  },
  {
   "cell_type": "code",
   "execution_count": null,
   "id": "f7f55d25",
   "metadata": {},
   "outputs": [],
   "source": [
    "cols_to_encode = ['sex', 'smoker', 'region']\n",
    "\n",
    "df_encoded = pd.get_dummies(df_cleaned, columns=cols_to_encode, drop_first=True)\n",
    "\n",
    "print(df_encoded)\n",
    "\n",
    "file_path = '../data/processed/cleaned_data.csv' \n",
    "\n",
    "df_encoded.to_csv(\n",
    "    file_path, \n",
    "    index=False, \n",
    "    encoding='utf-8' \n",
    ")\n"
   ]
  },
  {
   "cell_type": "markdown",
   "id": "d441e4ea",
   "metadata": {},
   "source": [
    "### Train/test split (80/20)"
   ]
  },
  {
   "cell_type": "code",
   "execution_count": null,
   "id": "845f0a78",
   "metadata": {},
   "outputs": [],
   "source": [
    "from sklearn.model_selection import train_test_split\n",
    "\n",
    "# Features (all columns except 'charges')\n",
    "X = df_encoded.drop(columns=['charges'])\n",
    "\n",
    "# Target (just the 'charges' column)\n",
    "y = df_encoded['charges']\n",
    "\n",
    "# Split into train (80%) and test (20%)\n",
    "X_train, X_test, y_train, y_test = train_test_split(\n",
    "    X, y, test_size=0.2, random_state=9\n",
    ")\n",
    "\n",
    "print(X_test)\n",
    "print(X_train)\n",
    "print(y_test)\n",
    "print(y_train)"
   ]
  },
  {
   "cell_type": "markdown",
   "id": "32f11300",
   "metadata": {},
   "source": [
    "### Normalize/Standardize numeric features"
   ]
  },
  {
   "cell_type": "code",
   "execution_count": null,
   "id": "eaaa004b",
   "metadata": {},
   "outputs": [],
   "source": [
    "from sklearn.preprocessing import MinMaxScaler\n",
    "\n",
    "scaler = MinMaxScaler() \n",
    "\n",
    "X_train_scaled = scaler.fit_transform(X_train)\n",
    "\n",
    "X_test_scaled = scaler.transform(X_test)\n",
    "\n",
    "print(X_test)"
   ]
  }
 ],
 "metadata": {
  "kernelspec": {
   "display_name": ".venv",
   "language": "python",
   "name": "python3"
  },
  "language_info": {
   "codemirror_mode": {
    "name": "ipython",
    "version": 3
   },
   "file_extension": ".py",
   "mimetype": "text/x-python",
   "name": "python",
   "nbconvert_exporter": "python",
   "pygments_lexer": "ipython3",
   "version": "3.13.7"
  }
 },
 "nbformat": 4,
 "nbformat_minor": 5
}
